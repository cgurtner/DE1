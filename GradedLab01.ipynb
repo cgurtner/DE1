{
 "cells": [
  {
   "cell_type": "markdown",
   "metadata": {},
   "source": [
    "# Data Engineering 1: Graded Lab 01 - Solution\n",
    "---------------"
   ]
  },
  {
   "cell_type": "markdown",
   "metadata": {},
   "source": [
    "#### Grading\n",
    "For this graded lab you can get a total of 20 points. These 20 points count 10% of your final grade for the course.\n",
    "\n",
    "#### Start\n",
    "Start of the Graded Lab 01 is **Wednesday, March 30th at 23:55**.\n",
    "\n",
    "#### Deadline\n",
    "Deadline for the submission of the Graded Lab 01 is **Wednesday, April 13th at 23:59**.\n",
    "\n",
    "#### Note\n",
    "Check each result carefully. Use data filter, cleaning, and transformation methods wherever needed. The data can sometimes be really messy and have hidden issues.\n",
    "\n",
    "#### Submission\n",
    "You are allowed to submit the solution in groups of **two or three** students.\n",
    "Submit your GradedLab01.ipynb file renamed to FirstnameStudent01LastnameStudent01_FirstnameStudent02LastnameStudent02_FirstnameStudent03LastnameStudent03.ipynb in moodle.   \n",
    "Please submit a runnable python jupyter notebook file.\n",
    "All other submissions will be rejected and graded with 0 points."
   ]
  },
  {
   "cell_type": "markdown",
   "metadata": {},
   "source": [
    "#### Task 01: Structured Data [8 points].    \n",
    "The imdb.csv file contains a dataset extracted from IMDB with several attributes. For example, the title, plot, and the language of the movies. Read the imdb.csv file in a pandas dataframe and try to answer the following questions."
   ]
  },
  {
   "cell_type": "code",
   "execution_count": 38,
   "metadata": {},
   "outputs": [
    {
     "data": {
      "text/html": [
       "<div>\n",
       "<style scoped>\n",
       "    .dataframe tbody tr th:only-of-type {\n",
       "        vertical-align: middle;\n",
       "    }\n",
       "\n",
       "    .dataframe tbody tr th {\n",
       "        vertical-align: top;\n",
       "    }\n",
       "\n",
       "    .dataframe thead th {\n",
       "        text-align: right;\n",
       "    }\n",
       "</style>\n",
       "<table border=\"1\" class=\"dataframe\">\n",
       "  <thead>\n",
       "    <tr style=\"text-align: right;\">\n",
       "      <th></th>\n",
       "      <th>id</th>\n",
       "      <th>kind</th>\n",
       "      <th>title</th>\n",
       "      <th>languages</th>\n",
       "      <th>genres</th>\n",
       "      <th>rating</th>\n",
       "      <th>director</th>\n",
       "      <th>cumulative worldwide gross</th>\n",
       "      <th>opening weekend united states</th>\n",
       "      <th>budget</th>\n",
       "      <th>plot</th>\n",
       "    </tr>\n",
       "  </thead>\n",
       "  <tbody>\n",
       "    <tr>\n",
       "      <th>0</th>\n",
       "      <td>111161</td>\n",
       "      <td>movie</td>\n",
       "      <td>The Shawshank Redemption</td>\n",
       "      <td>['English']</td>\n",
       "      <td>['Drama']</td>\n",
       "      <td>9.3</td>\n",
       "      <td>Frank Darabont</td>\n",
       "      <td>$58,500,000</td>\n",
       "      <td>$727,326, 20 Nov 1994</td>\n",
       "      <td>$25,000,000 (estimated)</td>\n",
       "      <td>Chronicles the experiences of a formerly succe...</td>\n",
       "    </tr>\n",
       "    <tr>\n",
       "      <th>1</th>\n",
       "      <td>68646</td>\n",
       "      <td>movie</td>\n",
       "      <td>The Godfather</td>\n",
       "      <td>['English', 'Italian', 'Latin']</td>\n",
       "      <td>['Crime', 'Drama']</td>\n",
       "      <td>9.2</td>\n",
       "      <td>Francis Ford Coppola</td>\n",
       "      <td>$245,066,411</td>\n",
       "      <td>$223,758, 04 Apr 1997</td>\n",
       "      <td>$6,000,000 (estimated)</td>\n",
       "      <td>The Godfather \"Don\" Vito Corleone is the head ...</td>\n",
       "    </tr>\n",
       "    <tr>\n",
       "      <th>2</th>\n",
       "      <td>468569</td>\n",
       "      <td>movie</td>\n",
       "      <td>The Dark Knight</td>\n",
       "      <td>['English', 'Mandarin']</td>\n",
       "      <td>['Action', 'Crime', 'Drama', 'Thriller']</td>\n",
       "      <td>9.1</td>\n",
       "      <td>Christopher Nolan</td>\n",
       "      <td>$1,004,558,444, 19 Jul 2012</td>\n",
       "      <td>$158,411,483, 20 Jul 2008</td>\n",
       "      <td>$185,000,000 (estimated)</td>\n",
       "      <td>Set within a year after the events of Batman B...</td>\n",
       "    </tr>\n",
       "    <tr>\n",
       "      <th>3</th>\n",
       "      <td>108052</td>\n",
       "      <td>movie</td>\n",
       "      <td>Schindler's List</td>\n",
       "      <td>['English', 'Hebrew', 'German', 'Polish', 'Lat...</td>\n",
       "      <td>['Biography', 'Drama', 'History']</td>\n",
       "      <td>9.0</td>\n",
       "      <td>Steven Spielberg</td>\n",
       "      <td>$221,000,000</td>\n",
       "      <td>$566,760, 09 Dec 2018</td>\n",
       "      <td>$22,000,000 (estimated)</td>\n",
       "      <td>Oskar Schindler is a vain and greedy German bu...</td>\n",
       "    </tr>\n",
       "    <tr>\n",
       "      <th>4</th>\n",
       "      <td>110912</td>\n",
       "      <td>movie</td>\n",
       "      <td>Pulp Fiction</td>\n",
       "      <td>['English', 'Spanish', 'French']</td>\n",
       "      <td>['Crime', 'Drama']</td>\n",
       "      <td>8.9</td>\n",
       "      <td>Quentin Tarantino</td>\n",
       "      <td>$213,928,762</td>\n",
       "      <td>$9,311,882, 14 Oct 1994</td>\n",
       "      <td>$8,000,000 (estimated)</td>\n",
       "      <td>Jules Winnfield (Samuel L. Jackson) and Vincen...</td>\n",
       "    </tr>\n",
       "    <tr>\n",
       "      <th>...</th>\n",
       "      <td>...</td>\n",
       "      <td>...</td>\n",
       "      <td>...</td>\n",
       "      <td>...</td>\n",
       "      <td>...</td>\n",
       "      <td>...</td>\n",
       "      <td>...</td>\n",
       "      <td>...</td>\n",
       "      <td>...</td>\n",
       "      <td>...</td>\n",
       "      <td>...</td>\n",
       "    </tr>\n",
       "    <tr>\n",
       "      <th>154</th>\n",
       "      <td>2085059</td>\n",
       "      <td>tv series</td>\n",
       "      <td>Black Mirror</td>\n",
       "      <td>['English']</td>\n",
       "      <td>['Drama', 'Mystery', 'Sci-Fi', 'Thriller']</td>\n",
       "      <td>8.8</td>\n",
       "      <td>NaN</td>\n",
       "      <td>000000000</td>\n",
       "      <td>000000000</td>\n",
       "      <td>000000000</td>\n",
       "      <td>[\"An anthology series exploring a twisted, hig...</td>\n",
       "    </tr>\n",
       "    <tr>\n",
       "      <th>155</th>\n",
       "      <td>2707408</td>\n",
       "      <td>tv series</td>\n",
       "      <td>Narcos</td>\n",
       "      <td>['English', 'Spanish']</td>\n",
       "      <td>['Biography', 'Crime', 'Drama', 'Thriller']</td>\n",
       "      <td>8.8</td>\n",
       "      <td>NaN</td>\n",
       "      <td>000000000</td>\n",
       "      <td>000000000</td>\n",
       "      <td>000000000</td>\n",
       "      <td>['A chronicled look at the criminal exploits o...</td>\n",
       "    </tr>\n",
       "    <tr>\n",
       "      <th>156</th>\n",
       "      <td>98936</td>\n",
       "      <td>tv series</td>\n",
       "      <td>Twin Peaks</td>\n",
       "      <td>['English', 'Icelandic', 'Afrikaans', 'Norwegi...</td>\n",
       "      <td>['Crime', 'Drama', 'Mystery', 'Thriller']</td>\n",
       "      <td>8.8</td>\n",
       "      <td>NaN</td>\n",
       "      <td>000000000</td>\n",
       "      <td>000000000</td>\n",
       "      <td>000000000</td>\n",
       "      <td>['An idiosyncratic FBI agent investigates the ...</td>\n",
       "    </tr>\n",
       "    <tr>\n",
       "      <th>157</th>\n",
       "      <td>4934214</td>\n",
       "      <td>tv series</td>\n",
       "      <td>Taskmaster</td>\n",
       "      <td>['English']</td>\n",
       "      <td>['Comedy', 'Game-Show']</td>\n",
       "      <td>9.0</td>\n",
       "      <td>NaN</td>\n",
       "      <td>000000000</td>\n",
       "      <td>000000000</td>\n",
       "      <td>000000000</td>\n",
       "      <td>['Five comedians are set tasks challenging the...</td>\n",
       "    </tr>\n",
       "    <tr>\n",
       "      <th>158</th>\n",
       "      <td>200276</td>\n",
       "      <td>tv series</td>\n",
       "      <td>The West Wing</td>\n",
       "      <td>['English']</td>\n",
       "      <td>['Drama']</td>\n",
       "      <td>8.9</td>\n",
       "      <td>NaN</td>\n",
       "      <td>000000000</td>\n",
       "      <td>000000000</td>\n",
       "      <td>000000000</td>\n",
       "      <td>['Inside the lives of staffers in the West Win...</td>\n",
       "    </tr>\n",
       "  </tbody>\n",
       "</table>\n",
       "<p>159 rows × 11 columns</p>\n",
       "</div>"
      ],
      "text/plain": [
       "          id       kind                     title  \\\n",
       "0     111161      movie  The Shawshank Redemption   \n",
       "1      68646      movie             The Godfather   \n",
       "2     468569      movie           The Dark Knight   \n",
       "3     108052      movie          Schindler's List   \n",
       "4     110912      movie              Pulp Fiction   \n",
       "..       ...        ...                       ...   \n",
       "154  2085059  tv series              Black Mirror   \n",
       "155  2707408  tv series                    Narcos   \n",
       "156    98936  tv series                Twin Peaks   \n",
       "157  4934214  tv series                Taskmaster   \n",
       "158   200276  tv series             The West Wing   \n",
       "\n",
       "                                             languages  \\\n",
       "0                                          ['English']   \n",
       "1                      ['English', 'Italian', 'Latin']   \n",
       "2                              ['English', 'Mandarin']   \n",
       "3    ['English', 'Hebrew', 'German', 'Polish', 'Lat...   \n",
       "4                     ['English', 'Spanish', 'French']   \n",
       "..                                                 ...   \n",
       "154                                        ['English']   \n",
       "155                             ['English', 'Spanish']   \n",
       "156  ['English', 'Icelandic', 'Afrikaans', 'Norwegi...   \n",
       "157                                        ['English']   \n",
       "158                                        ['English']   \n",
       "\n",
       "                                          genres  rating  \\\n",
       "0                                      ['Drama']     9.3   \n",
       "1                             ['Crime', 'Drama']     9.2   \n",
       "2       ['Action', 'Crime', 'Drama', 'Thriller']     9.1   \n",
       "3              ['Biography', 'Drama', 'History']     9.0   \n",
       "4                             ['Crime', 'Drama']     8.9   \n",
       "..                                           ...     ...   \n",
       "154   ['Drama', 'Mystery', 'Sci-Fi', 'Thriller']     8.8   \n",
       "155  ['Biography', 'Crime', 'Drama', 'Thriller']     8.8   \n",
       "156    ['Crime', 'Drama', 'Mystery', 'Thriller']     8.8   \n",
       "157                      ['Comedy', 'Game-Show']     9.0   \n",
       "158                                    ['Drama']     8.9   \n",
       "\n",
       "                 director   cumulative worldwide gross  \\\n",
       "0          Frank Darabont                  $58,500,000   \n",
       "1    Francis Ford Coppola                 $245,066,411   \n",
       "2       Christopher Nolan  $1,004,558,444, 19 Jul 2012   \n",
       "3        Steven Spielberg                 $221,000,000   \n",
       "4       Quentin Tarantino                 $213,928,762   \n",
       "..                    ...                          ...   \n",
       "154                   NaN                    000000000   \n",
       "155                   NaN                    000000000   \n",
       "156                   NaN                    000000000   \n",
       "157                   NaN                    000000000   \n",
       "158                   NaN                    000000000   \n",
       "\n",
       "    opening weekend united states                    budget  \\\n",
       "0           $727,326, 20 Nov 1994   $25,000,000 (estimated)   \n",
       "1           $223,758, 04 Apr 1997    $6,000,000 (estimated)   \n",
       "2       $158,411,483, 20 Jul 2008  $185,000,000 (estimated)   \n",
       "3           $566,760, 09 Dec 2018   $22,000,000 (estimated)   \n",
       "4         $9,311,882, 14 Oct 1994    $8,000,000 (estimated)   \n",
       "..                            ...                       ...   \n",
       "154                     000000000                 000000000   \n",
       "155                     000000000                 000000000   \n",
       "156                     000000000                 000000000   \n",
       "157                     000000000                 000000000   \n",
       "158                     000000000                 000000000   \n",
       "\n",
       "                                                  plot  \n",
       "0    Chronicles the experiences of a formerly succe...  \n",
       "1    The Godfather \"Don\" Vito Corleone is the head ...  \n",
       "2    Set within a year after the events of Batman B...  \n",
       "3    Oskar Schindler is a vain and greedy German bu...  \n",
       "4    Jules Winnfield (Samuel L. Jackson) and Vincen...  \n",
       "..                                                 ...  \n",
       "154  [\"An anthology series exploring a twisted, hig...  \n",
       "155  ['A chronicled look at the criminal exploits o...  \n",
       "156  ['An idiosyncratic FBI agent investigates the ...  \n",
       "157  ['Five comedians are set tasks challenging the...  \n",
       "158  ['Inside the lives of staffers in the West Win...  \n",
       "\n",
       "[159 rows x 11 columns]"
      ]
     },
     "execution_count": 38,
     "metadata": {},
     "output_type": "execute_result"
    }
   ],
   "source": [
    "import pandas as pd\n",
    "\n",
    "df = pd.read_csv('./data/imdb.csv')\n",
    "df.head(200)"
   ]
  },
  {
   "cell_type": "markdown",
   "metadata": {},
   "source": [
    "##### __(a)  What is the min, max, and the average value of the attribute 'rating' for all movies? [1 point].__ "
   ]
  },
  {
   "cell_type": "code",
   "execution_count": 59,
   "metadata": {},
   "outputs": [
    {
     "name": "stdout",
     "output_type": "stream",
     "text": [
      "min rating: 8.1\n",
      "max rating: 9.3\n",
      "mean rating: 8.354639175257732\n"
     ]
    }
   ],
   "source": [
    "mov_df = df[df['kind'] == 'movie']\n",
    "min, max, mean = mov_df['rating'].min(), mov_df['rating'].max(), mov_df['rating'].mean()\n",
    "\n",
    "print('min rating:', min)\n",
    "print('max rating:', max)\n",
    "print('mean rating:', mean)"
   ]
  },
  {
   "cell_type": "markdown",
   "metadata": {},
   "source": [
    "##### __(b) What is the min, max, and the average value of the attribute 'cumulative worldwide gross' for all movies? [1 point].__ "
   ]
  },
  {
   "cell_type": "code",
   "execution_count": 73,
   "metadata": {},
   "outputs": [
    {
     "name": "stdout",
     "output_type": "stream",
     "text": [
      "min cumulative worldwide gross: 6540000.00\n",
      "max cumulative worldwide gross: 2797800564.00\n",
      "mean cumulative worldwide gross: 390489624.68\n"
     ]
    }
   ],
   "source": [
    "df['cumulative worldwide gross clean'] = df['cumulative worldwide gross'].str.extract('\\$([0-9,.]+)')\n",
    "df['cumulative worldwide gross clean'] = df['cumulative worldwide gross clean'].str.replace(',', '')\n",
    "df['cumulative worldwide gross clean'] = pd.to_numeric(df['cumulative worldwide gross clean'])\n",
    "\n",
    "mov_df = df[df['cumulative worldwide gross clean'].notna() & (df['kind'] == 'movie')]\n",
    "min = mov_df['cumulative worldwide gross clean'].min()\n",
    "max = mov_df['cumulative worldwide gross clean'].max()\n",
    "mean = mov_df['cumulative worldwide gross clean'].mean()\n",
    "\n",
    "print('min cumulative worldwide gross:', format(min, '.2f'))\n",
    "print('max cumulative worldwide gross:', format(max, '.2f'))\n",
    "print('mean cumulative worldwide gross:', format(mean, '.2f'))\n"
   ]
  },
  {
   "cell_type": "markdown",
   "metadata": {},
   "source": [
    "##### __(c) What is the min, max, and the average value of the attribute 'cumulative worldwide gross' grouped by genre of the movies? [1 point].__ "
   ]
  },
  {
   "cell_type": "code",
   "execution_count": null,
   "metadata": {},
   "outputs": [],
   "source": [
    "cumulative_notna_df.groupby()"
   ]
  },
  {
   "cell_type": "markdown",
   "metadata": {},
   "source": [
    "##### __(d) What is the profit (defined as cumulative worldwide gross - budget) of each movie? [1 point].__ "
   ]
  },
  {
   "cell_type": "code",
   "execution_count": null,
   "metadata": {},
   "outputs": [],
   "source": []
  },
  {
   "cell_type": "markdown",
   "metadata": {},
   "source": [
    "##### __(e)  What is the min, max, and the average value of the atttribute 'opening weekend united states' per month? [4 points].__ "
   ]
  },
  {
   "cell_type": "code",
   "execution_count": null,
   "metadata": {},
   "outputs": [],
   "source": []
  },
  {
   "cell_type": "markdown",
   "metadata": {},
   "source": [
    "#### Task 02: Unstructured Data [12 points]. \n",
    "This time use the files imdb.csv from Task 01 and the imdb2.csv file. In this task we mainly use the content of the attribute 'plot' for the implementation of a retrieval system."
   ]
  },
  {
   "cell_type": "markdown",
   "metadata": {},
   "source": [
    "##### __(a)  Read the files imdb.csv and imdb2.csv in a dataframe called imdb. Add a column which is called 'plotterms' to each item. The new column should contain all terms (lower-case and cleaned from special characters) from the plot attribute which are not contained in the stopwords_english.txt file. [1 point]__ "
   ]
  },
  {
   "cell_type": "code",
   "execution_count": null,
   "metadata": {},
   "outputs": [],
   "source": []
  },
  {
   "cell_type": "markdown",
   "metadata": {},
   "source": [
    "##### __(b)  Create an inverted index for the terms in the 'plotterms' column. Use a datastructure of your choice for the implementation [1 point]__ "
   ]
  },
  {
   "cell_type": "code",
   "execution_count": null,
   "metadata": {},
   "outputs": [],
   "source": []
  },
  {
   "cell_type": "markdown",
   "metadata": {},
   "source": [
    "##### __(c) Take the inverted index and create the posting list for the query 'american'. Return the posting list as well as the top5 items scored by the rating attribute. [1 point]__ "
   ]
  },
  {
   "cell_type": "code",
   "execution_count": null,
   "metadata": {},
   "outputs": [],
   "source": []
  },
  {
   "cell_type": "markdown",
   "metadata": {},
   "source": [
    "##### __(d) Take the inverted index and create the posting lists for the query terms 'american' and 'dream' (the term 'american' as well as the term 'dream' should be contained in the plot). Your merging algorithm should be efficient and reduce the number of comparison to a minimum. Don't use existing python methods (like intersect or in) for the merge algorithm. Return the merged posting list as well as the top5 items scored by the rating attribute. [3 points]__ "
   ]
  },
  {
   "cell_type": "code",
   "execution_count": null,
   "metadata": {},
   "outputs": [],
   "source": []
  },
  {
   "cell_type": "markdown",
   "metadata": {},
   "source": [
    "##### __(e) Extend your index to be able to rank the resulting items from Task 2d by the occurrence of search terms in the plotterms. Execute the query 'american' and 'dream' (the term 'american' as well as the term 'dream' should be contained in the plot) again and print the resulting items.  [2 points]__"
   ]
  },
  {
   "cell_type": "code",
   "execution_count": null,
   "metadata": {},
   "outputs": [],
   "source": []
  },
  {
   "cell_type": "markdown",
   "metadata": {},
   "source": [
    "##### __(f) Use the TF-IDF score and the cosine similarity to execute the query 'american' and 'dream' (the term 'american' as well as the term 'dream' should be contained in the plot) against all plots in the collection. Print the results with the corresponding ranking score. Also execute the query 'american' or 'dream' (the term 'american' or the term 'dream' should be contained in the plot).  [4 points]__"
   ]
  },
  {
   "cell_type": "code",
   "execution_count": null,
   "metadata": {},
   "outputs": [],
   "source": []
  }
 ],
 "metadata": {
  "kernelspec": {
   "display_name": "Python 3",
   "language": "python",
   "name": "python3"
  },
  "language_info": {
   "codemirror_mode": {
    "name": "ipython",
    "version": 3
   },
   "file_extension": ".py",
   "mimetype": "text/x-python",
   "name": "python",
   "nbconvert_exporter": "python",
   "pygments_lexer": "ipython3",
   "version": "3.10.2"
  }
 },
 "nbformat": 4,
 "nbformat_minor": 4
}
